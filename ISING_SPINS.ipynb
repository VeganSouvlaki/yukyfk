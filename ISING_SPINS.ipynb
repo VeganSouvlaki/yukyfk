{
 "cells": [
  {
   "cell_type": "code",
   "execution_count": 1,
   "id": "6ce37dd5",
   "metadata": {},
   "outputs": [
    {
     "name": "stdout",
     "output_type": "stream",
     "text": [
      "nn array is [[  50 2450    1   49]\n",
      " [  51 2451    2    0]\n",
      " [  52 2452    3    1]\n",
      " ...\n",
      " [  47 2447 2498 2496]\n",
      " [  48 2448 2499 2497]\n",
      " [  49 2449 2450 2498]]\n"
     ]
    },
    {
     "data": {
      "image/png": "[encoded data removed]",
      "text/plain": [
       "<Figure size 640x480 with 1 Axes>"
      ]
     },
     "metadata": {},
     "output_type": "display_data"
    },
    {
     "data": {
      "image/png": "[encoded data removed]",
      "text/plain": [
       "<Figure size 640x480 with 1 Axes>"
      ]
     },
     "metadata": {},
     "output_type": "display_data"
    },
    {
     "data": {
      "image/png": "[encoded data removed]",
      "text/plain": [
       "<Figure size 640x480 with 1 Axes>"
      ]
     },
     "metadata": {},
     "output_type": "display_data"
    }
   ],
   "source": [
    "# ising\n",
    "import numpy as np\n",
    "import random\n",
    "import matplotlib.pyplot as plt\n",
    "\n",
    "\n",
    "#variable initialization \n",
    "\n",
    "J = 1 #spin interaction coefficient\n",
    "B = 0 #meta 1 // External Magnetic Field\n",
    "N = 50 # 50x50 grid\n",
    "n = 700 # redommended 500-1000 \n",
    "steps_tot = n*(N**2)\n",
    "Nskip = 20 #vale to kai 20 meta\n",
    "Ntherm = steps_tot//3 # throw 1/3 of total steps away\n",
    "kbt = J / 0.3 #??\n",
    "#T_values = np.linspace(1.5, 3.5, 20) # temperatures around curie\n",
    "T_values = [1.5, 2.3, 3.0]\n",
    "\n",
    "\n",
    "# aux matrices\n",
    "aux1 = np.zeros((N**2, 2), dtype=int) # for saving the coordinates\n",
    "aux2 = np.zeros((N, N), dtype=int) # map (ix,iy) --> index\n",
    "nn = np.zeros((N**2, 4), dtype=int) # 4 nearest neighbors of each point\n",
    "\n",
    "counter = 0 \n",
    "for ix in np.arange(N):\n",
    "    for iy in np.arange(N): # matching positions\n",
    "        aux1[counter,0] = ix\n",
    "        aux1[counter,1] = iy\n",
    "        aux2[ix,iy] = counter\n",
    "        counter += 1\n",
    "\n",
    "#######################################################################\n",
    "\n",
    "#periodic conditions\n",
    "# function 1/3\n",
    "def per(i,N):\n",
    "    ii=i\n",
    "    if i<0:\n",
    "        ii=i+N\n",
    "    elif i>N-1:\n",
    "        ii=i-N\n",
    "    return int(ii)\n",
    "\n",
    "\n",
    "# creating the neigbors // calculating the 4 neighbors for each spin\n",
    "for i in np.arange(N**2):\n",
    "    ix=aux1[i,0]\n",
    "    iy=aux1[i,1]\n",
    "    ik=aux2[per(ix+1,N),per(iy,N)] # right\n",
    "    nn[i,0]=ik\n",
    "    ik=aux2[per(ix-1,N),per(iy,N)] # left\n",
    "    nn[i,1]=ik\n",
    "    ik=aux2[per(ix,N),per(iy+1,N)] # up\n",
    "    nn[i,2]=ik\n",
    "    ik=aux2[per(ix,N),per(iy-1,N)] # down\n",
    "    nn[i,3]=ik\n",
    "print(f'nn array is {nn}')\n",
    "\n",
    "'''# Spin array --  Initial spin configuration\n",
    "S = np.zeros([N**2])\n",
    "for i in range(N**2):\n",
    "    S[i] = np.random.choice([-1, 1]) # HOT START'''\n",
    "\n",
    "'''COLD START\n",
    " S = np.ones([N**2])''' # all spins aligned\n",
    "\n",
    "# Total energy calculation\n",
    "# function 2/3\n",
    "    \n",
    "def Hamiltonian(J,B,nn,S): #total energy of the initial spin configuration\n",
    "# use eq.5\n",
    "    A = 0\n",
    "    # S[i] intex of the choosen spin\n",
    "    for i in range(N**2):\n",
    "        A = A+S[i]*(S[nn[i,0]]+S[nn[i,1]]+S[nn[i,2]]+S[nn[i,3]]) # sum up the interactions of spin i with its neighbors\n",
    "    H = -J*A/2-B*np.sum(S)\n",
    "    return H\n",
    "\n",
    "\n",
    "# Calculation of total energy difference when a spin flips\n",
    "# function 3/3\n",
    "\n",
    "def DeltaH(J,B,nn,S,r): # r -- spin index that we currently examine\n",
    "    Q = 0\n",
    "    # Q -- calculation of the sum of 4 geitonikwn spin in r position\n",
    "    for i in range(4): # 4 neighbors for each spin\n",
    "        geitonas = nn[r,i] \n",
    "        Q += S[geitonas]\n",
    "    \n",
    "    DH = 2*J*S[r]*(Q+B)\n",
    "    return DH # return the energy difference if i reverse spin S[r] \n",
    "\n",
    "\n",
    "# Metropolis\n",
    "\n",
    "for T in T_values:\n",
    "    b = 1/(T) # considering kb=1\n",
    "    # Spin array --  Initial spin configuration\n",
    "    S = np.random.choice([-1, 1], size=N**2)  \n",
    "    Etot = []\n",
    "    Magtot = []\n",
    "    H1 = Hamiltonian(J,B,nn,S)\n",
    "\n",
    "    for t in range(steps_tot):\n",
    "        r = np.random.randint(0,N**2) # Choose spins to flip.\n",
    "        DE1 = DeltaH(J,B,nn,S,r)\n",
    "\n",
    "        if DE1 < 0: # energy is getting decreased // accept and flip\n",
    "            H1 += DE1\n",
    "            S[r] = -S[r] # spin flip\n",
    "        if DE1 >= 0: # energy is getting increased // accept with proba\n",
    "            Proba = np.exp(-DE1 * b) # importance sampling prin eixa /kbt\n",
    "            if np.random.rand() < Proba:\n",
    "                H1 += DE1\n",
    "                S[r] = -S[r]  \n",
    "\n",
    "        if t >= Ntherm and t % Nskip == 0: ## ??\n",
    "            ## keeping only the calculations AFTER Ntherm\n",
    "            Magtot.append(np.sum(S))\n",
    "            Etot.append(H1)\n",
    "\n",
    "        # Εμφάνιση εικόνας spins\n",
    "    plt.imshow(S.reshape(N, N), cmap='gray_r', interpolation='nearest')\n",
    "    plt.title(f\"Spin Configuration at T = {T}\")\n",
    "    plt.axis('off')\n",
    "    plt.show()\n"
   ]
  },
  {
   "cell_type": "code",
   "execution_count": null,
   "id": "6faad81e",
   "metadata": {},
   "outputs": [],
   "source": []
  }
 ],
 "metadata": {
  "kernelspec": {
   "display_name": "base",
   "language": "python",
   "name": "python3"
  },
  "language_info": {
   "codemirror_mode": {
    "name": "ipython",
    "version": 3
   },
   "file_extension": ".py",
   "mimetype": "text/x-python",
   "name": "python",
   "nbconvert_exporter": "python",
   "pygments_lexer": "ipython3",
   "version": "3.12.7"
  }
 },
 "nbformat": 4,
 "nbformat_minor": 5
}
